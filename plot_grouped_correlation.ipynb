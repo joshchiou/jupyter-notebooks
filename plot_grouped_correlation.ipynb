{
 "cells": [
  {
   "cell_type": "code",
   "execution_count": 1,
   "metadata": {
    "collapsed": true
   },
   "outputs": [],
   "source": [
    "library(ggplot2)\n",
    "library(ggthemes)"
   ]
  },
  {
   "cell_type": "code",
   "execution_count": 19,
   "metadata": {
    "collapsed": true
   },
   "outputs": [],
   "source": [
    "data = 'progenitor.expression-footprint.correlation.grouped.tab'\n",
    "corr.data = read.table(data, sep='\\t', header=T)\n",
    "corr.data['PEARSON_EST'][is.na(corr.data['PEARSON_EST'])] = 0\n",
    "corr.mean = aggregate(PEARSON_EST ~ MOTIF_GROUP, corr.data, mean)"
   ]
  },
  {
   "cell_type": "code",
   "execution_count": 20,
   "metadata": {
    "collapsed": true
   },
   "outputs": [],
   "source": [
    "options(repr.plot.width=4, repr.plot.height=50)\n",
    "p1 = ggplot(corr.data) \n",
    "p1 = p1 + geom_point(data=corr.data[corr.data['PEARSON_EST']==0,], aes(x=PEARSON_EST, y=MOTIF_GROUP), shape=1, size=1, alpha=0.8, show.legend=FALSE)\n",
    "p1 = p1 + geom_point(data=corr.data[corr.data['PEARSON_EST']!=0,], aes(x=PEARSON_EST, y=MOTIF_GROUP), shape=19, size=1, alpha=0.8, show.legend=FALSE)\n",
    "p1 = p1 + geom_point(data=corr.mean[corr.mean['PEARSON_EST']!=0,], aes(x=PEARSON_EST, y=MOTIF_GROUP), shape=18, size=3, color='red', alpha=0.6)\n",
    "p1 = p1 + xlim(-1,1)\n",
    "p1 = p1 + scale_y_discrete(name='Motif groups', limits = rev(levels(corr.data[['MOTIF_GROUP']])))\n",
    "p1 = p1 + xlab('Pearson correlation') + ggtitle('Pearson correlation between mRNA\\nExpression and Footprint count')\n",
    "p1 = p1 + theme_minimal(base_size=8)\n",
    "p1 = p1 + theme(plot.title=element_text(hjust=0.5))\n",
    "ggsave('pearson.exp+fp.pdf', plot = p1, device = 'pdf', width = 4, height = 25, dpi = 300)"
   ]
  },
  {
   "cell_type": "code",
   "execution_count": 21,
   "metadata": {
    "collapsed": true
   },
   "outputs": [],
   "source": [
    "corr.data['SPEARMAN_EST'][is.na(corr.data['SPEARMAN_EST'])] = 0\n",
    "corr.mean = aggregate(SPEARMAN_EST ~ MOTIF_GROUP, corr.data, mean)\n",
    "options(repr.plot.width=4, repr.plot.height=50)\n",
    "p2 = ggplot(corr.data) \n",
    "p2 = p2 + geom_point(data=corr.data[corr.data['SPEARMAN_EST']==0,], aes(x=SPEARMAN_EST, y=MOTIF_GROUP), shape=1, size=1, alpha=0.8, show.legend=FALSE)\n",
    "p2 = p2 + geom_point(data=corr.data[corr.data['SPEARMAN_EST']!=0,], aes(x=SPEARMAN_EST, y=MOTIF_GROUP), shape=19, size=1, alpha=0.8, show.legend=FALSE)\n",
    "p2 = p2 + geom_point(data=corr.mean[corr.mean['SPEARMAN_EST']!=0,], aes(x=SPEARMAN_EST, y=MOTIF_GROUP), shape=18, size=3, color='red', alpha=0.6)\n",
    "p2 = p2 + xlim(-1,1)\n",
    "p2 = p2 + scale_y_discrete(name='Motif groups', limits = rev(levels(corr.data[['MOTIF_GROUP']])))\n",
    "p2 = p2 + xlab('Spearman correlation') + ggtitle('Spearman correlation between mRNA\\nExpression and Footprint count')\n",
    "p2 = p2 + theme_minimal(base_size=8)\n",
    "p2 = p2 + theme(plot.title=element_text(hjust=0.5))\n",
    "ggsave('spearman.exp+fp.pdf', plot = p2, device = 'pdf', width = 4, height = 25, dpi = 300)"
   ]
  }
 ],
 "metadata": {
  "kernelspec": {
   "display_name": "R",
   "language": "R",
   "name": "ir"
  },
  "language_info": {
   "codemirror_mode": "r",
   "file_extension": ".r",
   "mimetype": "text/x-r-source",
   "name": "R",
   "pygments_lexer": "r",
   "version": "3.3.3"
  }
 },
 "nbformat": 4,
 "nbformat_minor": 2
}
